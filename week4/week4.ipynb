{
 "cells": [
  {
   "cell_type": "markdown",
   "metadata": {},
   "source": [
    "# Business Problem"
   ]
  },
  {
   "cell_type": "markdown",
   "metadata": {},
   "source": [
    "### Problem Statement"
   ]
  },
  {
   "cell_type": "markdown",
   "metadata": {},
   "source": [
    "The Business problem is to consider a customer who want to open a Frozen Yogurt Shop in specific area"
   ]
  },
  {
   "cell_type": "markdown",
   "metadata": {},
   "source": [
    "### Requirements"
   ]
  },
  {
   "cell_type": "markdown",
   "metadata": {},
   "source": [
    "The customer require to predict the profits befor thier invest into this business"
   ]
  },
  {
   "cell_type": "markdown",
   "metadata": {},
   "source": [
    "### Background"
   ]
  },
  {
   "cell_type": "markdown",
   "metadata": {},
   "source": [
    "Planing ahead and investiment prediction is major problem in today's AI world. Customers require to understand the market and have a clear prediction about thier business even before any investiment.\n",
    "Using the current available data on how other business in the same business domain and in the same area will clarify how the current business statement and how it will be in future"
   ]
  },
  {
   "cell_type": "markdown",
   "metadata": {},
   "source": [
    "### Data description"
   ]
  },
  {
   "cell_type": "markdown",
   "metadata": {},
   "source": [
    "By fetching data related to the current business in the same domain as of our example Frozen Yogurt Shop resturant, and also in the same area. \n",
    "The data we need is:\n",
    "- how many frozen yogert/resturants in this city\n",
    "- how many customers per day going into these resturants\n",
    "- how many going in weekends\n",
    "- try fetch data for an entir year\n",
    "- tipping is usually percentage of total billing, so if we could get the tipping of the current shops, we can understand how many these resturants do per week"
   ]
  },
  {
   "cell_type": "markdown",
   "metadata": {},
   "source": [
    "### Get Number and Names of Frozen Yogurt Shop in Austin Texas"
   ]
  },
  {
   "cell_type": "code",
   "execution_count": 1,
   "metadata": {},
   "outputs": [
    {
     "name": "stdout",
     "output_type": "stream",
     "text": [
      "Libraries imported.\n"
     ]
    }
   ],
   "source": [
    "\"\"\"Initialize Library\"\"\"\n",
    "import requests\n",
    "import pandas as pd\n",
    "import numpy as np\n",
    "from lxml import etree\n",
    "from geopy.geocoders import Nominatim\n",
    "\n",
    "from opencage.geocoder import OpenCageGeocode\n",
    "# Matplotlib and associated plotting modules\n",
    "import matplotlib.cm as cm\n",
    "import matplotlib.colors as colors\n",
    "\n",
    "# import k-means from clustering stage\n",
    "from sklearn.cluster import KMeans\n",
    "\n",
    "#!conda install -c conda-forge folium=0.5.0 --yes # uncomment this line if you haven't completed the Foursquare API lab\n",
    "import folium # map rendering library\n",
    "from pandas.io.json import json_normalize # tranform JSON file into a pandas dataframe\n",
    "\n",
    "import json\n",
    "\n",
    "print('Libraries imported.')"
   ]
  },
  {
   "cell_type": "code",
   "execution_count": 2,
   "metadata": {},
   "outputs": [],
   "source": [
    "\"\"\"Define Foursquare Credentials and Version\"\"\"\n",
    "CLIENT_ID = '...' # your Foursquare ID\n",
    "CLIENT_SECRET = '...' # your Foursquare Secret\n",
    "VERSION = '20180605' # Foursquare API version\n",
    "\n",
    "key = '...'\n",
    "geocoder = OpenCageGeocode(key)\n",
    "\n",
    "# type your answer here\n",
    "LIMIT = 100 # limit of number of venues returned by Foursquare API\n",
    "radius = 500 # define radius"
   ]
  },
  {
   "cell_type": "code",
   "execution_count": 18,
   "metadata": {},
   "outputs": [
    {
     "name": "stdout",
     "output_type": "stream",
     "text": [
      "30.2711286 30.2711286\n"
     ]
    }
   ],
   "source": [
    "address = 'Austin, Texas'\n",
    "results = geocoder.geocode(address)\n",
    "\n",
    "austin_latitude = results[0]['geometry']['lat']\n",
    "austin_longitude = results[0]['geometry']['lng']\n",
    "print(austin_latitude, austin_latitude)"
   ]
  },
  {
   "cell_type": "markdown",
   "metadata": {},
   "source": [
    "Get venue category"
   ]
  },
  {
   "cell_type": "code",
   "execution_count": 5,
   "metadata": {},
   "outputs": [],
   "source": [
    "cat_url = 'https://api.foursquare.com/v2/venues/categories?client_id={}&client_secret={}&v={}'.format(\n",
    "    CLIENT_ID,CLIENT_SECRET,VERSION)\n",
    "r = requests.get(url= cat_url)"
   ]
  },
  {
   "cell_type": "code",
   "execution_count": 6,
   "metadata": {},
   "outputs": [],
   "source": [
    "def parse_categories(cat, venue):\n",
    "    if cat['name'] == venue:\n",
    "        return True, cat['id'], ' '\n",
    "    if(len(cat['categories']) > 0):\n",
    "        for c_cat in cat['categories']:\n",
    "            found, c_id, p_id = parse_categories(c_cat, venue)\n",
    "            if(found):\n",
    "                return found, c_id, c_cat['id']\n",
    "    return False, ' ', ' '"
   ]
  },
  {
   "cell_type": "code",
   "execution_count": 7,
   "metadata": {},
   "outputs": [
    {
     "data": {
      "text/plain": [
       "('512e7cae91d4cbb4e5efe0af', '4bf58dd8d48988d1d0941735')"
      ]
     },
     "execution_count": 7,
     "metadata": {},
     "output_type": "execute_result"
    }
   ],
   "source": [
    "fro_yogrt_cat = ''\n",
    "parent_cat = ''\n",
    "found = False\n",
    "c_id = ''\n",
    "p_id = ''\n",
    "#parse_cat = ''\n",
    "if r.ok:\n",
    "    cat_response = json.loads(r.text)\n",
    "    for p_cat in cat_response['response']['categories']:\n",
    "        found, c_id, p_id  = parse_categories(p_cat, 'Frozen Yogurt Shop')\n",
    "        if(found):\n",
    "            break\n",
    "if found:\n",
    "    fro_yogrt_cat = c_id\n",
    "    parent_cat = p_id\n",
    "fro_yogrt_cat, parent_cat"
   ]
  },
  {
   "cell_type": "markdown",
   "metadata": {},
   "source": [
    "It is found that, Frozen Yogurt is sub-category of Dessert category\n",
    "The plan now is to get:  \n",
    "- All frozen yogurt shops  \n",
    "- All Dessert shops "
   ]
  },
  {
   "cell_type": "code",
   "execution_count": 32,
   "metadata": {},
   "outputs": [],
   "source": [
    "def getFroDF(fro_response, defaultCity = 'unknown'):\n",
    "    id_list = []\n",
    "    name_list = []\n",
    "    city_list = []\n",
    "    lat_list = []\n",
    "    lng_list = []\n",
    "    for venue in fro_response['response']['venues']:\n",
    "        id_list.append(venue['id'])\n",
    "        name_list.append(venue['name'])\n",
    "        if('city' in venue['location'].keys()):\n",
    "            city_list.append(venue['location']['city'])\n",
    "        else:\n",
    "            city_list.append(defaultCity)\n",
    "        lat_list.append(venue['location']['lat'])\n",
    "        lng_list.append(venue['location']['lng'])\n",
    "    return id_list, name_list, city_list, lat_list, lng_list"
   ]
  },
  {
   "cell_type": "code",
   "execution_count": 19,
   "metadata": {
    "scrolled": true
   },
   "outputs": [
    {
     "data": {
      "text/html": [
       "<div>\n",
       "<style scoped>\n",
       "    .dataframe tbody tr th:only-of-type {\n",
       "        vertical-align: middle;\n",
       "    }\n",
       "\n",
       "    .dataframe tbody tr th {\n",
       "        vertical-align: top;\n",
       "    }\n",
       "\n",
       "    .dataframe thead th {\n",
       "        text-align: right;\n",
       "    }\n",
       "</style>\n",
       "<table border=\"1\" class=\"dataframe\">\n",
       "  <thead>\n",
       "    <tr style=\"text-align: right;\">\n",
       "      <th></th>\n",
       "      <th>ven_city</th>\n",
       "      <th>ven_id</th>\n",
       "      <th>ven_lat</th>\n",
       "      <th>ven_lng</th>\n",
       "      <th>ven_name</th>\n",
       "    </tr>\n",
       "  </thead>\n",
       "  <tbody>\n",
       "    <tr>\n",
       "      <th>0</th>\n",
       "      <td>Austin</td>\n",
       "      <td>4b7cc2dff964a52078a42fe3</td>\n",
       "      <td>30.281256</td>\n",
       "      <td>-97.740738</td>\n",
       "      <td>TCBY</td>\n",
       "    </tr>\n",
       "    <tr>\n",
       "      <th>1</th>\n",
       "      <td>Buda</td>\n",
       "      <td>5c71cefddee770002c369982</td>\n",
       "      <td>30.082615</td>\n",
       "      <td>-97.823440</td>\n",
       "      <td>Freddy’s Frozen Custard &amp; Steakburgers</td>\n",
       "    </tr>\n",
       "    <tr>\n",
       "      <th>2</th>\n",
       "      <td>Austin</td>\n",
       "      <td>58bc85a151d19e7f8b44ad9b</td>\n",
       "      <td>30.394837</td>\n",
       "      <td>-97.749304</td>\n",
       "      <td>Menchie's at Great Hills</td>\n",
       "    </tr>\n",
       "    <tr>\n",
       "      <th>3</th>\n",
       "      <td>Austin</td>\n",
       "      <td>553ce4f7498e9ba5843cb7e9</td>\n",
       "      <td>30.299627</td>\n",
       "      <td>-97.721174</td>\n",
       "      <td>Menchie's Frozen Yogurt</td>\n",
       "    </tr>\n",
       "    <tr>\n",
       "      <th>4</th>\n",
       "      <td>Pflugerville</td>\n",
       "      <td>57afc76d498e1ecd88d497b5</td>\n",
       "      <td>30.461910</td>\n",
       "      <td>-97.598716</td>\n",
       "      <td>Menchie's</td>\n",
       "    </tr>\n",
       "  </tbody>\n",
       "</table>\n",
       "</div>"
      ],
      "text/plain": [
       "       ven_city                    ven_id    ven_lat    ven_lng  \\\n",
       "0        Austin  4b7cc2dff964a52078a42fe3  30.281256 -97.740738   \n",
       "1          Buda  5c71cefddee770002c369982  30.082615 -97.823440   \n",
       "2        Austin  58bc85a151d19e7f8b44ad9b  30.394837 -97.749304   \n",
       "3        Austin  553ce4f7498e9ba5843cb7e9  30.299627 -97.721174   \n",
       "4  Pflugerville  57afc76d498e1ecd88d497b5  30.461910 -97.598716   \n",
       "\n",
       "                                 ven_name  \n",
       "0                                    TCBY  \n",
       "1  Freddy’s Frozen Custard & Steakburgers  \n",
       "2                Menchie's at Great Hills  \n",
       "3                 Menchie's Frozen Yogurt  \n",
       "4                               Menchie's  "
      ]
     },
     "execution_count": 19,
     "metadata": {},
     "output_type": "execute_result"
    }
   ],
   "source": [
    "fro_url = 'https://api.foursquare.com/v2/venues/search?client_id={}&client_secret={}&v={}&near={}&categoryId={}'.format(\n",
    "CLIENT_ID,CLIENT_SECRET,VERSION, address, fro_yogrt_cat)\n",
    "r = requests.get(url= fro_url)\n",
    "fro_df = pd.DataFrame(columns=['ven_id', 'ven_name', 'ven_city', 'ven_lat', 'ven_lng'])\n",
    "if r.ok:\n",
    "    fro_response = json.loads(r.text)\n",
    "    id_list, name_list, city_list, lat_list, lng_list = getFroDF(fro_response)\n",
    "    fro_df = pd.DataFrame({'ven_id': id_list, 'ven_name': name_list, 'ven_city': city_list, 'ven_lat': lat_list, \n",
    "                           'ven_lng': lng_list})\n",
    "fro_df.to_csv('fro_df.csv')\n",
    "fro_df.head()"
   ]
  },
  {
   "cell_type": "code",
   "execution_count": 20,
   "metadata": {},
   "outputs": [
    {
     "data": {
      "text/html": [
       "<div>\n",
       "<style scoped>\n",
       "    .dataframe tbody tr th:only-of-type {\n",
       "        vertical-align: middle;\n",
       "    }\n",
       "\n",
       "    .dataframe tbody tr th {\n",
       "        vertical-align: top;\n",
       "    }\n",
       "\n",
       "    .dataframe thead th {\n",
       "        text-align: right;\n",
       "    }\n",
       "</style>\n",
       "<table border=\"1\" class=\"dataframe\">\n",
       "  <thead>\n",
       "    <tr style=\"text-align: right;\">\n",
       "      <th></th>\n",
       "      <th>ven_city</th>\n",
       "      <th>ven_id</th>\n",
       "      <th>ven_lat</th>\n",
       "      <th>ven_lng</th>\n",
       "      <th>ven_name</th>\n",
       "    </tr>\n",
       "  </thead>\n",
       "  <tbody>\n",
       "    <tr>\n",
       "      <th>0</th>\n",
       "      <td>Austin</td>\n",
       "      <td>4b7cc2dff964a52078a42fe3</td>\n",
       "      <td>30.281256</td>\n",
       "      <td>-97.740738</td>\n",
       "      <td>TCBY</td>\n",
       "    </tr>\n",
       "    <tr>\n",
       "      <th>1</th>\n",
       "      <td>Buda</td>\n",
       "      <td>5c71cefddee770002c369982</td>\n",
       "      <td>30.082615</td>\n",
       "      <td>-97.823440</td>\n",
       "      <td>Freddy’s Frozen Custard &amp; Steakburgers</td>\n",
       "    </tr>\n",
       "    <tr>\n",
       "      <th>2</th>\n",
       "      <td>Austin</td>\n",
       "      <td>58bc85a151d19e7f8b44ad9b</td>\n",
       "      <td>30.394837</td>\n",
       "      <td>-97.749304</td>\n",
       "      <td>Menchie's at Great Hills</td>\n",
       "    </tr>\n",
       "    <tr>\n",
       "      <th>3</th>\n",
       "      <td>Austin</td>\n",
       "      <td>553ce4f7498e9ba5843cb7e9</td>\n",
       "      <td>30.299627</td>\n",
       "      <td>-97.721174</td>\n",
       "      <td>Menchie's Frozen Yogurt</td>\n",
       "    </tr>\n",
       "    <tr>\n",
       "      <th>4</th>\n",
       "      <td>Pflugerville</td>\n",
       "      <td>57afc76d498e1ecd88d497b5</td>\n",
       "      <td>30.461910</td>\n",
       "      <td>-97.598716</td>\n",
       "      <td>Menchie's</td>\n",
       "    </tr>\n",
       "  </tbody>\n",
       "</table>\n",
       "</div>"
      ],
      "text/plain": [
       "       ven_city                    ven_id    ven_lat    ven_lng  \\\n",
       "0        Austin  4b7cc2dff964a52078a42fe3  30.281256 -97.740738   \n",
       "1          Buda  5c71cefddee770002c369982  30.082615 -97.823440   \n",
       "2        Austin  58bc85a151d19e7f8b44ad9b  30.394837 -97.749304   \n",
       "3        Austin  553ce4f7498e9ba5843cb7e9  30.299627 -97.721174   \n",
       "4  Pflugerville  57afc76d498e1ecd88d497b5  30.461910 -97.598716   \n",
       "\n",
       "                                 ven_name  \n",
       "0                                    TCBY  \n",
       "1  Freddy’s Frozen Custard & Steakburgers  \n",
       "2                Menchie's at Great Hills  \n",
       "3                 Menchie's Frozen Yogurt  \n",
       "4                               Menchie's  "
      ]
     },
     "execution_count": 20,
     "metadata": {},
     "output_type": "execute_result"
    }
   ],
   "source": [
    "fro_df = pd.read_csv('fro_df.csv', index_col=0)\n",
    "fro_df.head()"
   ]
  },
  {
   "cell_type": "code",
   "execution_count": 11,
   "metadata": {
    "scrolled": true
   },
   "outputs": [
    {
     "data": {
      "text/html": [
       "<div>\n",
       "<style scoped>\n",
       "    .dataframe tbody tr th:only-of-type {\n",
       "        vertical-align: middle;\n",
       "    }\n",
       "\n",
       "    .dataframe tbody tr th {\n",
       "        vertical-align: top;\n",
       "    }\n",
       "\n",
       "    .dataframe thead th {\n",
       "        text-align: right;\n",
       "    }\n",
       "</style>\n",
       "<table border=\"1\" class=\"dataframe\">\n",
       "  <thead>\n",
       "    <tr style=\"text-align: right;\">\n",
       "      <th></th>\n",
       "      <th>ven_city</th>\n",
       "      <th>ven_id</th>\n",
       "      <th>ven_lat</th>\n",
       "      <th>ven_lng</th>\n",
       "      <th>ven_name</th>\n",
       "    </tr>\n",
       "  </thead>\n",
       "  <tbody>\n",
       "    <tr>\n",
       "      <th>0</th>\n",
       "      <td>Austin</td>\n",
       "      <td>4d780e87ece5a1cddcd58fa4</td>\n",
       "      <td>30.264501</td>\n",
       "      <td>-97.744821</td>\n",
       "      <td>Berry Austin</td>\n",
       "    </tr>\n",
       "    <tr>\n",
       "      <th>1</th>\n",
       "      <td>Austin</td>\n",
       "      <td>5af79581f8cbd400394cf2a3</td>\n",
       "      <td>30.267235</td>\n",
       "      <td>-97.752750</td>\n",
       "      <td>The Baked Bear</td>\n",
       "    </tr>\n",
       "    <tr>\n",
       "      <th>2</th>\n",
       "      <td>Austin</td>\n",
       "      <td>4e9cb24446904f8f933fc63b</td>\n",
       "      <td>30.255654</td>\n",
       "      <td>-97.762526</td>\n",
       "      <td>Lick Ice Creams</td>\n",
       "    </tr>\n",
       "    <tr>\n",
       "      <th>3</th>\n",
       "      <td>Buda</td>\n",
       "      <td>5c71cefddee770002c369982</td>\n",
       "      <td>30.082615</td>\n",
       "      <td>-97.823440</td>\n",
       "      <td>Freddy’s Frozen Custard &amp; Steakburgers</td>\n",
       "    </tr>\n",
       "    <tr>\n",
       "      <th>4</th>\n",
       "      <td>Austin</td>\n",
       "      <td>4b25904af964a520db7324e3</td>\n",
       "      <td>30.391411</td>\n",
       "      <td>-97.713988</td>\n",
       "      <td>Culver's</td>\n",
       "    </tr>\n",
       "  </tbody>\n",
       "</table>\n",
       "</div>"
      ],
      "text/plain": [
       "  ven_city                    ven_id    ven_lat    ven_lng  \\\n",
       "0   Austin  4d780e87ece5a1cddcd58fa4  30.264501 -97.744821   \n",
       "1   Austin  5af79581f8cbd400394cf2a3  30.267235 -97.752750   \n",
       "2   Austin  4e9cb24446904f8f933fc63b  30.255654 -97.762526   \n",
       "3     Buda  5c71cefddee770002c369982  30.082615 -97.823440   \n",
       "4   Austin  4b25904af964a520db7324e3  30.391411 -97.713988   \n",
       "\n",
       "                                 ven_name  \n",
       "0                            Berry Austin  \n",
       "1                          The Baked Bear  \n",
       "2                         Lick Ice Creams  \n",
       "3  Freddy’s Frozen Custard & Steakburgers  \n",
       "4                                Culver's  "
      ]
     },
     "execution_count": 11,
     "metadata": {},
     "output_type": "execute_result"
    }
   ],
   "source": [
    "fro_url = 'https://api.foursquare.com/v2/venues/search?client_id={}&client_secret={}&v={}&near={}&categoryId={}'.format(\n",
    "CLIENT_ID,CLIENT_SECRET,VERSION, address, parent_cat)\n",
    "r = requests.get(url= fro_url)\n",
    "dessert_df = pd.DataFrame(columns=['ven_id', 'ven_name', 'ven_city', 'ven_lat', 'ven_lng'])\n",
    "if r.ok:\n",
    "    fro_response = json.loads(r.text)\n",
    "    id_list, name_list, city_list, lat_list, lng_list = getFroDF(fro_response)\n",
    "    dessert_df = pd.DataFrame({'ven_id': id_list, 'ven_name': name_list, 'ven_city': city_list, 'ven_lat': lat_list, \n",
    "                           'ven_lng': lng_list})\n",
    "dessert_df.to_csv('dessert_df.csv')\n",
    "dessert_df.head()"
   ]
  },
  {
   "cell_type": "code",
   "execution_count": 12,
   "metadata": {},
   "outputs": [
    {
     "data": {
      "text/html": [
       "<div>\n",
       "<style scoped>\n",
       "    .dataframe tbody tr th:only-of-type {\n",
       "        vertical-align: middle;\n",
       "    }\n",
       "\n",
       "    .dataframe tbody tr th {\n",
       "        vertical-align: top;\n",
       "    }\n",
       "\n",
       "    .dataframe thead th {\n",
       "        text-align: right;\n",
       "    }\n",
       "</style>\n",
       "<table border=\"1\" class=\"dataframe\">\n",
       "  <thead>\n",
       "    <tr style=\"text-align: right;\">\n",
       "      <th></th>\n",
       "      <th>ven_city</th>\n",
       "      <th>ven_id</th>\n",
       "      <th>ven_lat</th>\n",
       "      <th>ven_lng</th>\n",
       "      <th>ven_name</th>\n",
       "    </tr>\n",
       "  </thead>\n",
       "  <tbody>\n",
       "    <tr>\n",
       "      <th>0</th>\n",
       "      <td>Austin</td>\n",
       "      <td>4d780e87ece5a1cddcd58fa4</td>\n",
       "      <td>30.264501</td>\n",
       "      <td>-97.744821</td>\n",
       "      <td>Berry Austin</td>\n",
       "    </tr>\n",
       "    <tr>\n",
       "      <th>1</th>\n",
       "      <td>Austin</td>\n",
       "      <td>5af79581f8cbd400394cf2a3</td>\n",
       "      <td>30.267235</td>\n",
       "      <td>-97.752750</td>\n",
       "      <td>The Baked Bear</td>\n",
       "    </tr>\n",
       "    <tr>\n",
       "      <th>2</th>\n",
       "      <td>Austin</td>\n",
       "      <td>4e9cb24446904f8f933fc63b</td>\n",
       "      <td>30.255654</td>\n",
       "      <td>-97.762526</td>\n",
       "      <td>Lick Ice Creams</td>\n",
       "    </tr>\n",
       "    <tr>\n",
       "      <th>3</th>\n",
       "      <td>Buda</td>\n",
       "      <td>5c71cefddee770002c369982</td>\n",
       "      <td>30.082615</td>\n",
       "      <td>-97.823440</td>\n",
       "      <td>Freddy’s Frozen Custard &amp; Steakburgers</td>\n",
       "    </tr>\n",
       "    <tr>\n",
       "      <th>4</th>\n",
       "      <td>Austin</td>\n",
       "      <td>4b25904af964a520db7324e3</td>\n",
       "      <td>30.391411</td>\n",
       "      <td>-97.713988</td>\n",
       "      <td>Culver's</td>\n",
       "    </tr>\n",
       "  </tbody>\n",
       "</table>\n",
       "</div>"
      ],
      "text/plain": [
       "  ven_city                    ven_id    ven_lat    ven_lng  \\\n",
       "0   Austin  4d780e87ece5a1cddcd58fa4  30.264501 -97.744821   \n",
       "1   Austin  5af79581f8cbd400394cf2a3  30.267235 -97.752750   \n",
       "2   Austin  4e9cb24446904f8f933fc63b  30.255654 -97.762526   \n",
       "3     Buda  5c71cefddee770002c369982  30.082615 -97.823440   \n",
       "4   Austin  4b25904af964a520db7324e3  30.391411 -97.713988   \n",
       "\n",
       "                                 ven_name  \n",
       "0                            Berry Austin  \n",
       "1                          The Baked Bear  \n",
       "2                         Lick Ice Creams  \n",
       "3  Freddy’s Frozen Custard & Steakburgers  \n",
       "4                                Culver's  "
      ]
     },
     "execution_count": 12,
     "metadata": {},
     "output_type": "execute_result"
    }
   ],
   "source": [
    "dessert_df = pd.read_csv('dessert_df.csv', index_col=0)\n",
    "dessert_df.head()"
   ]
  },
  {
   "cell_type": "markdown",
   "metadata": {},
   "source": [
    "### Let's plot that into the map"
   ]
  },
  {
   "cell_type": "code",
   "execution_count": 41,
   "metadata": {},
   "outputs": [
    {
     "data": {
      "text/html": [
       "<div style=\"width:100%;\"><div style=\"position:relative;width:100%;height:0;padding-bottom:60%;\"><iframe src=\"data:text/html;charset=utf-8;base64,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\" style=\"position:absolute;width:100%;height:100%;left:0;top:0;border:none !important;\" allowfullscreen webkitallowfullscreen mozallowfullscreen></iframe></div></div>"
      ],
      "text/plain": [
       "<folium.folium.Map at 0x1a131d5908>"
      ]
     },
     "execution_count": 41,
     "metadata": {},
     "output_type": "execute_result"
    }
   ],
   "source": [
    "# create map of Austin Frozen yogurt using latitude and longitude values\n",
    "map_fro_austin = folium.Map(location=[austin_latitude, austin_longitude], zoom_start=11)\n",
    "\n",
    "# add markers to map\n",
    "for lat, lng, label in zip(fro_df['ven_lat'], fro_df['ven_lng'], fro_df['ven_name']):\n",
    "    label = folium.Popup(label, parse_html=True)\n",
    "    folium.CircleMarker(\n",
    "        [lat, lng],\n",
    "        radius=5,\n",
    "        popup=label,\n",
    "        color='red',\n",
    "        fill=True,\n",
    "        fill_color='#cc316c',\n",
    "        fill_opacity=0.7,\n",
    "        parse_html=False).add_to(map_fro_austin)\n",
    "\n",
    "for lat, lng, label in zip(dessert_df['ven_lat'], dessert_df['ven_lng'], dessert_df['ven_name']):\n",
    "    label = folium.Popup(label, parse_html=True)\n",
    "    folium.CircleMarker(\n",
    "        [lat, lng],\n",
    "        radius=5,\n",
    "        popup=label,\n",
    "        color='green',\n",
    "        fill=True,\n",
    "        fill_color='#31cc55',\n",
    "        fill_opacity=0.7,\n",
    "        parse_html=False).add_to(map_fro_austin)\n",
    "    \n",
    "map_fro_austin"
   ]
  },
  {
   "cell_type": "markdown",
   "metadata": {},
   "source": [
    "### Now, let's compare it with another city like Paris"
   ]
  },
  {
   "cell_type": "code",
   "execution_count": 39,
   "metadata": {},
   "outputs": [
    {
     "name": "stdout",
     "output_type": "stream",
     "text": [
      "48.8566101 2.3514992\n"
     ]
    }
   ],
   "source": [
    "paris_address = 'Paris, France'\n",
    "results = geocoder.geocode(paris_address)\n",
    "\n",
    "paris_latitude = results[0]['geometry']['lat']\n",
    "paris_longitude = results[0]['geometry']['lng']\n",
    "print(paris_latitude, paris_longitude)"
   ]
  },
  {
   "cell_type": "code",
   "execution_count": 33,
   "metadata": {},
   "outputs": [
    {
     "data": {
      "text/html": [
       "<div>\n",
       "<style scoped>\n",
       "    .dataframe tbody tr th:only-of-type {\n",
       "        vertical-align: middle;\n",
       "    }\n",
       "\n",
       "    .dataframe tbody tr th {\n",
       "        vertical-align: top;\n",
       "    }\n",
       "\n",
       "    .dataframe thead th {\n",
       "        text-align: right;\n",
       "    }\n",
       "</style>\n",
       "<table border=\"1\" class=\"dataframe\">\n",
       "  <thead>\n",
       "    <tr style=\"text-align: right;\">\n",
       "      <th></th>\n",
       "      <th>ven_city</th>\n",
       "      <th>ven_id</th>\n",
       "      <th>ven_lat</th>\n",
       "      <th>ven_lng</th>\n",
       "      <th>ven_name</th>\n",
       "    </tr>\n",
       "  </thead>\n",
       "  <tbody>\n",
       "    <tr>\n",
       "      <th>0</th>\n",
       "      <td>Paris</td>\n",
       "      <td>4ff07da4e4b0b61f2a827eb3</td>\n",
       "      <td>48.859083</td>\n",
       "      <td>2.353587</td>\n",
       "      <td>Yogurt Factory</td>\n",
       "    </tr>\n",
       "    <tr>\n",
       "      <th>1</th>\n",
       "      <td>Paris</td>\n",
       "      <td>5acf7c0fe1f2284dc91e44f7</td>\n",
       "      <td>48.853889</td>\n",
       "      <td>2.337537</td>\n",
       "      <td>California Bliss</td>\n",
       "    </tr>\n",
       "    <tr>\n",
       "      <th>2</th>\n",
       "      <td>Paris</td>\n",
       "      <td>535bc50f11d260e3a8777a7a</td>\n",
       "      <td>48.861782</td>\n",
       "      <td>2.351140</td>\n",
       "      <td>l'atelier des glaces</td>\n",
       "    </tr>\n",
       "    <tr>\n",
       "      <th>3</th>\n",
       "      <td>Paris</td>\n",
       "      <td>539563e9498ecef183248e49</td>\n",
       "      <td>48.852635</td>\n",
       "      <td>2.335917</td>\n",
       "      <td>Dip &amp; Go</td>\n",
       "    </tr>\n",
       "    <tr>\n",
       "      <th>4</th>\n",
       "      <td>Paris</td>\n",
       "      <td>57cac9cd498e41a4a5d021cb</td>\n",
       "      <td>48.861485</td>\n",
       "      <td>2.352987</td>\n",
       "      <td>Yogurt Factory</td>\n",
       "    </tr>\n",
       "  </tbody>\n",
       "</table>\n",
       "</div>"
      ],
      "text/plain": [
       "  ven_city                    ven_id    ven_lat   ven_lng  \\\n",
       "0    Paris  4ff07da4e4b0b61f2a827eb3  48.859083  2.353587   \n",
       "1    Paris  5acf7c0fe1f2284dc91e44f7  48.853889  2.337537   \n",
       "2    Paris  535bc50f11d260e3a8777a7a  48.861782  2.351140   \n",
       "3    Paris  539563e9498ecef183248e49  48.852635  2.335917   \n",
       "4    Paris  57cac9cd498e41a4a5d021cb  48.861485  2.352987   \n",
       "\n",
       "               ven_name  \n",
       "0        Yogurt Factory  \n",
       "1      California Bliss  \n",
       "2  l'atelier des glaces  \n",
       "3              Dip & Go  \n",
       "4        Yogurt Factory  "
      ]
     },
     "execution_count": 33,
     "metadata": {},
     "output_type": "execute_result"
    }
   ],
   "source": [
    "paris_fro_url = 'https://api.foursquare.com/v2/venues/search?client_id={}&client_secret={}&v={}&near={}&categoryId={}'.format(\n",
    "CLIENT_ID,CLIENT_SECRET,VERSION, paris_address, fro_yogrt_cat)\n",
    "pr = requests.get(url= paris_fro_url)\n",
    "paris_fro_df = pd.DataFrame(columns=['ven_id', 'ven_name', 'ven_city', 'ven_lat', 'ven_lng'])\n",
    "if pr.ok:\n",
    "    paris_fro_response = json.loads(pr.text)\n",
    "    id_list, name_list, city_list, lat_list, lng_list = getFroDF(paris_fro_response, 'Paris')\n",
    "    paris_fro_df = pd.DataFrame({'ven_id': id_list, 'ven_name': name_list, 'ven_city': city_list, 'ven_lat': lat_list, \n",
    "                           'ven_lng': lng_list})\n",
    "paris_fro_df.to_csv('paris_fro_df.csv')\n",
    "paris_fro_df.head()"
   ]
  },
  {
   "cell_type": "code",
   "execution_count": 34,
   "metadata": {},
   "outputs": [
    {
     "data": {
      "text/html": [
       "<div>\n",
       "<style scoped>\n",
       "    .dataframe tbody tr th:only-of-type {\n",
       "        vertical-align: middle;\n",
       "    }\n",
       "\n",
       "    .dataframe tbody tr th {\n",
       "        vertical-align: top;\n",
       "    }\n",
       "\n",
       "    .dataframe thead th {\n",
       "        text-align: right;\n",
       "    }\n",
       "</style>\n",
       "<table border=\"1\" class=\"dataframe\">\n",
       "  <thead>\n",
       "    <tr style=\"text-align: right;\">\n",
       "      <th></th>\n",
       "      <th>ven_city</th>\n",
       "      <th>ven_id</th>\n",
       "      <th>ven_lat</th>\n",
       "      <th>ven_lng</th>\n",
       "      <th>ven_name</th>\n",
       "    </tr>\n",
       "  </thead>\n",
       "  <tbody>\n",
       "    <tr>\n",
       "      <th>0</th>\n",
       "      <td>Paris</td>\n",
       "      <td>5b81a899249623002cbde2b3</td>\n",
       "      <td>48.854110</td>\n",
       "      <td>2.349764</td>\n",
       "      <td>Amorino</td>\n",
       "    </tr>\n",
       "    <tr>\n",
       "      <th>1</th>\n",
       "      <td>Paris</td>\n",
       "      <td>4bc5e23151b376b0ce8e1a6f</td>\n",
       "      <td>48.871036</td>\n",
       "      <td>2.303276</td>\n",
       "      <td>Ladurée</td>\n",
       "    </tr>\n",
       "    <tr>\n",
       "      <th>2</th>\n",
       "      <td>Paris</td>\n",
       "      <td>4b1d1a75f964a520e00b24e3</td>\n",
       "      <td>48.866578</td>\n",
       "      <td>2.325459</td>\n",
       "      <td>Pierre Hermé</td>\n",
       "    </tr>\n",
       "    <tr>\n",
       "      <th>3</th>\n",
       "      <td>Paris</td>\n",
       "      <td>5a3e6731b04056376864ad46</td>\n",
       "      <td>48.871514</td>\n",
       "      <td>2.303698</td>\n",
       "      <td>86 Champs (L'Occitane x Pierre Hermé)</td>\n",
       "    </tr>\n",
       "    <tr>\n",
       "      <th>4</th>\n",
       "      <td>Paris</td>\n",
       "      <td>4adcda14f964a5203a3721e3</td>\n",
       "      <td>48.863438</td>\n",
       "      <td>2.287255</td>\n",
       "      <td>Carette</td>\n",
       "    </tr>\n",
       "  </tbody>\n",
       "</table>\n",
       "</div>"
      ],
      "text/plain": [
       "  ven_city                    ven_id    ven_lat   ven_lng  \\\n",
       "0    Paris  5b81a899249623002cbde2b3  48.854110  2.349764   \n",
       "1    Paris  4bc5e23151b376b0ce8e1a6f  48.871036  2.303276   \n",
       "2    Paris  4b1d1a75f964a520e00b24e3  48.866578  2.325459   \n",
       "3    Paris  5a3e6731b04056376864ad46  48.871514  2.303698   \n",
       "4    Paris  4adcda14f964a5203a3721e3  48.863438  2.287255   \n",
       "\n",
       "                                ven_name  \n",
       "0                                Amorino  \n",
       "1                                Ladurée  \n",
       "2                           Pierre Hermé  \n",
       "3  86 Champs (L'Occitane x Pierre Hermé)  \n",
       "4                                Carette  "
      ]
     },
     "execution_count": 34,
     "metadata": {},
     "output_type": "execute_result"
    }
   ],
   "source": [
    "paris_parent_fro_url = 'https://api.foursquare.com/v2/venues/search?client_id={}&client_secret={}&v={}&near={}&categoryId={}'.format(\n",
    "CLIENT_ID,CLIENT_SECRET,VERSION, paris_address, parent_cat)\n",
    "ppr = requests.get(url= paris_parent_fro_url)\n",
    "paris_parent_fro_df = pd.DataFrame(columns=['ven_id', 'ven_name', 'ven_city', 'ven_lat', 'ven_lng'])\n",
    "if r.ok:\n",
    "    paris_parent_fro_response = json.loads(ppr.text)\n",
    "    id_list, name_list, city_list, lat_list, lng_list = getFroDF(paris_parent_fro_response)\n",
    "    paris_parent_fro_df = pd.DataFrame({'ven_id': id_list, 'ven_name': name_list, 'ven_city': city_list, \n",
    "                                        'ven_lat': lat_list, 'ven_lng': lng_list})\n",
    "paris_parent_fro_df.to_csv('paris_parent_fro_df.csv')\n",
    "paris_parent_fro_df.head()"
   ]
  },
  {
   "cell_type": "code",
   "execution_count": 40,
   "metadata": {},
   "outputs": [
    {
     "data": {
      "text/html": [
       "<div style=\"width:100%;\"><div style=\"position:relative;width:100%;height:0;padding-bottom:60%;\"><iframe src=\"data:text/html;charset=utf-8;base64,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\" style=\"position:absolute;width:100%;height:100%;left:0;top:0;border:none !important;\" allowfullscreen webkitallowfullscreen mozallowfullscreen></iframe></div></div>"
      ],
      "text/plain": [
       "<folium.folium.Map at 0x1a12f94588>"
      ]
     },
     "execution_count": 40,
     "metadata": {},
     "output_type": "execute_result"
    }
   ],
   "source": [
    "# create map of Paris Frozen yogurt using latitude and longitude values\n",
    "map_fro_paris = folium.Map(location=[paris_latitude, paris_longitude], zoom_start=11)\n",
    "\n",
    "# add markers to map\n",
    "for lat, lng, label in zip(paris_fro_df['ven_lat'], paris_fro_df['ven_lng'], paris_fro_df['ven_name']):\n",
    "    label = folium.Popup(label, parse_html=True)\n",
    "    folium.CircleMarker(\n",
    "        [lat, lng],\n",
    "        radius=5,\n",
    "        popup=label,\n",
    "        color='red',\n",
    "        fill=True,\n",
    "        fill_color='#cc316c',\n",
    "        fill_opacity=0.7,\n",
    "        parse_html=False).add_to(map_fro_paris)\n",
    "\n",
    "for lat, lng, label in zip(paris_parent_fro_df['ven_lat'], paris_parent_fro_df['ven_lng'], paris_parent_fro_df['ven_name']):\n",
    "    label = folium.Popup(label, parse_html=True)\n",
    "    folium.CircleMarker(\n",
    "        [lat, lng],\n",
    "        radius=5,\n",
    "        popup=label,\n",
    "        color='green',\n",
    "        fill=True,\n",
    "        fill_color='#31cc55',\n",
    "        fill_opacity=0.7,\n",
    "        parse_html=False).add_to(map_fro_paris)\n",
    "    \n",
    "map_fro_paris"
   ]
  },
  {
   "cell_type": "markdown",
   "metadata": {},
   "source": [
    "## Observation/Conclusion"
   ]
  },
  {
   "cell_type": "markdown",
   "metadata": {},
   "source": [
    "As it can be noted by compare between the Austin and Paris maps, that is clear the frozen yogurt shops are concentrated in the cities downtown and very little fare away from the cities downtowns."
   ]
  },
  {
   "cell_type": "markdown",
   "metadata": {},
   "source": [
    "### Recommendation"
   ]
  },
  {
   "cell_type": "markdown",
   "metadata": {},
   "source": [
    "My recommendation to the customer that the best area to open a forzen yogurt shop should be around the cities downtown not far away from that."
   ]
  },
  {
   "cell_type": "code",
   "execution_count": null,
   "metadata": {},
   "outputs": [],
   "source": []
  }
 ],
 "metadata": {
  "kernelspec": {
   "display_name": "Python 3",
   "language": "python",
   "name": "python3"
  },
  "language_info": {
   "codemirror_mode": {
    "name": "ipython",
    "version": 3
   },
   "file_extension": ".py",
   "mimetype": "text/x-python",
   "name": "python",
   "nbconvert_exporter": "python",
   "pygments_lexer": "ipython3",
   "version": "3.6.8"
  }
 },
 "nbformat": 4,
 "nbformat_minor": 2
}
